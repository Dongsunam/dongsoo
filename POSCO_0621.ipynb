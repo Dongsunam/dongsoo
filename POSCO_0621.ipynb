{
  "nbformat": 4,
  "nbformat_minor": 0,
  "metadata": {
    "colab": {
      "name": "Untitled6.ipynb",
      "provenance": [],
      "authorship_tag": "ABX9TyMr4KFg/JhrzU97Ke1GuZst",
      "include_colab_link": true
    },
    "kernelspec": {
      "name": "python3",
      "display_name": "Python 3"
    },
    "language_info": {
      "name": "python"
    }
  },
  "cells": [
    {
      "cell_type": "markdown",
      "metadata": {
        "id": "view-in-github",
        "colab_type": "text"
      },
      "source": [
        "<a href=\"https://colab.research.google.com/github/Dongsunam/dongsoo/blob/main/POSCO_0621.ipynb\" target=\"_parent\"><img src=\"https://colab.research.google.com/assets/colab-badge.svg\" alt=\"Open In Colab\"/></a>"
      ]
    },
    {
      "cell_type": "code",
      "metadata": {
        "id": "RjUv9ZwPTegT"
      },
      "source": [
        "import matplotlib.pyplot as plt\n",
        "import numpy as np\n",
        "import pandas as pd\n",
        "import seaborn as sns\n",
        "from sklearn.model_selection import train_test_split\n",
        "import tensorflow as tf\n",
        "from tensorflow import keras\n",
        "from tensorflow.keras import layers\n",
        "from keras.models import Sequential\n",
        "from keras.layers import Dense, Activation\n",
        "from keras.layers import Input, Flatten\n",
        "from keras.models import Model\n",
        "from sklearn.preprocessing import MinMaxScaler\n",
        "from keras.layers import Conv1D, TimeDistributed, LSTM\n",
        "from keras.layers import Input\n",
        "from keras import optimizers\n",
        "\n",
        "from sklearn.neighbors import KNeighborsClassifier\n",
        "from sklearn.tree import DecisionTreeClassifier\n",
        "from sklearn.ensemble import RandomForestClassifier\n",
        "from sklearn.naive_bayes import GaussianNB\n",
        "from sklearn.svm import SVC\n",
        "\n",
        "from sklearn.model_selection import KFold\n",
        "from sklearn.model_selection import cross_val_score\n",
        "\n",
        "k_fold = KFold(n_splits = 10, shuffle = True, random_state = 0)"
      ],
      "execution_count": 1,
      "outputs": []
    },
    {
      "cell_type": "code",
      "metadata": {
        "id": "zBApktmZT0_Z"
      },
      "source": [
        "df = pd.read_csv(\"https://raw.githubusercontent.com/Sooyeon13/13/main/posco.csv\")\n",
        "\n",
        "x_data = df.drop(['Y'], axis=1)\n",
        "y_data = df['Y']\n",
        "\n",
        "T_B=1250\n",
        "T_D=1210\n",
        "T_Z=1275"
      ],
      "execution_count": 2,
      "outputs": []
    },
    {
      "cell_type": "code",
      "metadata": {
        "id": "TVB-h4pYTlMX"
      },
      "source": [
        "for j in range(0, 200):\n",
        "  for i in range(len(x_data.loc[j])):\n",
        "    change=y_data[j]+i+1\n",
        "    if (change<0):\n",
        "      change=0\n",
        "\n",
        "    if (j<50):  \n",
        "      T=(20-change)*T_B+change*T_D\n",
        "    \n",
        "    elif (50<= j <100):\n",
        "      T=(20-change)*T_D+change*T_B\n",
        "    \n",
        "    elif (100<= j <150):\n",
        "      T=(20-change)*T_B+change*T_Z\n",
        "\n",
        "    else:\n",
        "      T=(20-change)*T_Z+change*T_B\n",
        "    \n",
        "\n",
        "    if x_data.loc[j][i]=='B':\n",
        "      T=T/(T_B*20)\n",
        "      T = round(T, 4)\n",
        "      T=str(T)\n",
        "      x_data.loc[j][i] = x_data.loc[j][i].replace('B',T)\n",
        "\n",
        "    elif x_data.loc[j][i]=='D':\n",
        "      T=T/(T_D*20)\n",
        "      T = round(T, 4)\n",
        "      T=str(T)\n",
        "      x_data.loc[j][i] = x_data.loc[j][i].replace('D',T)\n",
        "\n",
        "    elif x_data.loc[j][i]=='Z':\n",
        "      T=T/(T_Z*20)\n",
        "      T = round(T, 4)\n",
        "      T=str(T)\n",
        "      x_data.loc[j][i] = x_data.loc[j][i].replace('Z',T)\n",
        "\n",
        "    else:\n",
        "      x_data.loc[j][i] = x_data.loc[j][i].replace('X','0')\n"
      ],
      "execution_count": 3,
      "outputs": []
    },
    {
      "cell_type": "code",
      "metadata": {
        "id": "ZrzgdsqGTrmm"
      },
      "source": [
        "X_train, X_test, y_train, y_test =  train_test_split(x_data, y_data, test_size = 0.1, train_size = 180, random_state = 1)"
      ],
      "execution_count": 4,
      "outputs": []
    },
    {
      "cell_type": "code",
      "metadata": {
        "id": "xeRXW5OiT41E"
      },
      "source": [
        "def split_data(X, y, shift):\n",
        "  X_split = []\n",
        "  y_split = []\n",
        "\n",
        "  for idx in range(shift, len(X)):\n",
        "    X_split.append(X[idx-shift:idx])\n",
        "    y_split.append(y[idx].reshape(1))\n",
        "\n",
        "  X_split = np.array(X_split)\n",
        "  y_split = np.array(y_split)\n",
        " \n",
        "\n",
        "  return X_split, y_split   "
      ],
      "execution_count": 5,
      "outputs": []
    },
    {
      "cell_type": "code",
      "metadata": {
        "id": "CWli8SnhT7qh"
      },
      "source": [
        "X_train_np = np.array(X_train)\n",
        "X_test_np = np.array(X_test)\n",
        "y_train_np = np.array(y_train)\n",
        "y_test_np = np.array(y_test)\n",
        "\n",
        "X_train_s, y_train_s = split_data(X_train, y_train.reset_index(drop=True), 10)\n",
        "X_test_s, y_test_s = split_data(X_test, y_test.reset_index(drop=True), 10)\n",
        "\n",
        "X_train_s = X_train_s.astype(np.float)\n",
        "X_test_s = X_test_s.astype(np.float)\n",
        "y_train_s = y_train_s.astype(np.float)\n",
        "y_test_s = y_test_s.astype(np.float)\n",
        "\n",
        "X_train_np = X_train_np.astype(np.float)\n",
        "X_test_np = X_test_np.astype(np.float)\n",
        "y_train_np = y_train_np.astype(np.float)\n",
        "y_test_np = y_test_np.astype(np.float)"
      ],
      "execution_count": 6,
      "outputs": []
    },
    {
      "cell_type": "code",
      "metadata": {
        "id": "9kEwzbZQT_Vt"
      },
      "source": [
        "BATCH_SIZE = 1\n",
        "EPOCHS = 10\n",
        "SHIFT = 10\n",
        "SHUFFLE_BUFFER_SIZE = 100"
      ],
      "execution_count": 7,
      "outputs": []
    },
    {
      "cell_type": "code",
      "metadata": {
        "colab": {
          "base_uri": "https://localhost:8080/"
        },
        "id": "vcE25sN2UBRI",
        "outputId": "1db11b87-5275-401c-8a8d-21fd7a9a26b1"
      },
      "source": [
        "FFNN_model = Sequential([\n",
        "                    Flatten(input_shape = (10,20)),\n",
        "                    Dense(400, activation = 'LeakyReLU'),\n",
        "                    Dense(200, activation = 'LeakyReLU'),\n",
        "                    Dense(100, activation = 'LeakyReLU'),\n",
        "                    Dense(1, activation = 'sigmoid'),\n",
        "])\n",
        "\n",
        "FFNN_model.summary()"
      ],
      "execution_count": 8,
      "outputs": [
        {
          "output_type": "stream",
          "text": [
            "Model: \"sequential\"\n",
            "_________________________________________________________________\n",
            "Layer (type)                 Output Shape              Param #   \n",
            "=================================================================\n",
            "flatten (Flatten)            (None, 200)               0         \n",
            "_________________________________________________________________\n",
            "dense (Dense)                (None, 400)               80400     \n",
            "_________________________________________________________________\n",
            "dense_1 (Dense)              (None, 200)               80200     \n",
            "_________________________________________________________________\n",
            "dense_2 (Dense)              (None, 100)               20100     \n",
            "_________________________________________________________________\n",
            "dense_3 (Dense)              (None, 1)                 101       \n",
            "=================================================================\n",
            "Total params: 180,801\n",
            "Trainable params: 180,801\n",
            "Non-trainable params: 0\n",
            "_________________________________________________________________\n"
          ],
          "name": "stdout"
        }
      ]
    },
    {
      "cell_type": "code",
      "metadata": {
        "colab": {
          "base_uri": "https://localhost:8080/"
        },
        "id": "8iWczgkaUDDf",
        "outputId": "b7b57768-84b7-4d6e-cdff-935ebbc89b55"
      },
      "source": [
        "FFNN_model.compile(loss='mae', optimizer='adam')\n",
        "\n",
        "FFNN_history = FFNN_model.fit(X_train_s, y_train_s, shuffle= SHUFFLE_BUFFER_SIZE, batch_size= 1, epochs= 10)"
      ],
      "execution_count": 9,
      "outputs": [
        {
          "output_type": "stream",
          "text": [
            "Epoch 1/10\n",
            "170/170 [==============================] - 14s 2ms/step - loss: 4.6591\n",
            "Epoch 2/10\n",
            "170/170 [==============================] - 0s 2ms/step - loss: 4.6473\n",
            "Epoch 3/10\n",
            "170/170 [==============================] - 0s 2ms/step - loss: 4.4579\n",
            "Epoch 4/10\n",
            "170/170 [==============================] - 0s 2ms/step - loss: 4.5129\n",
            "Epoch 5/10\n",
            "170/170 [==============================] - 0s 2ms/step - loss: 4.7011\n",
            "Epoch 6/10\n",
            "170/170 [==============================] - 0s 2ms/step - loss: 4.4930\n",
            "Epoch 7/10\n",
            "170/170 [==============================] - 0s 2ms/step - loss: 4.4111\n",
            "Epoch 8/10\n",
            "170/170 [==============================] - 0s 2ms/step - loss: 4.6077\n",
            "Epoch 9/10\n",
            "170/170 [==============================] - 0s 2ms/step - loss: 4.7340\n",
            "Epoch 10/10\n",
            "170/170 [==============================] - 0s 2ms/step - loss: 4.3829\n"
          ],
          "name": "stdout"
        }
      ]
    },
    {
      "cell_type": "code",
      "metadata": {
        "colab": {
          "base_uri": "https://localhost:8080/",
          "height": 283
        },
        "id": "STVBHuEyUnR0",
        "outputId": "d4f02828-a579-4529-aee6-01f6761a0eaf"
      },
      "source": [
        "y_predict_FFNN = FFNN_model.predict(X_test_s)\n",
        "plt.plot(y_predict_FFNN, 'blue')\n",
        "plt.plot(y_test_s, 'red')"
      ],
      "execution_count": 10,
      "outputs": [
        {
          "output_type": "execute_result",
          "data": {
            "text/plain": [
              "[<matplotlib.lines.Line2D at 0x7f543a33c890>]"
            ]
          },
          "metadata": {
            "tags": []
          },
          "execution_count": 10
        },
        {
          "output_type": "display_data",
          "data": {
            "image/png": "[encoded data removed]",
            "text/plain": [
              "<Figure size 432x288 with 1 Axes>"
            ]
          },
          "metadata": {
            "tags": [],
            "needs_background": "light"
          }
        }
      ]
    },
    {
      "cell_type": "code",
      "metadata": {
        "colab": {
          "base_uri": "https://localhost:8080/"
        },
        "id": "XtsImZ6qUWbR",
        "outputId": "593dab1c-0c37-4d0e-cfec-f11c02f89d62"
      },
      "source": [
        "RNN_model = Sequential([   \n",
        "       LSTM(100, activation= 'tanh',return_sequences=True),\n",
        "       LSTM(90, activation= 'tanh',return_sequences=True),\n",
        "       LSTM(80, activation= 'tanh',return_sequences=True),\n",
        "       LSTM(70, activation= 'tanh',return_sequences=True),\n",
        "       LSTM(60, activation= 'tanh',return_sequences=True),       \n",
        "       LSTM(50, activation= 'tanh',return_sequences=True),\n",
        "       LSTM(40, activation= 'tanh',return_sequences=True),\n",
        "       LSTM(30, activation= 'tanh',return_sequences=True),\n",
        "       LSTM(20, activation= 'tanh',return_sequences=True),\n",
        "       LSTM(10, activation= 'tanh'),\n",
        "       Dense(1, activation= 'sigmoid')              \n",
        "])\n",
        "\n",
        "RNN_model.build((None, 10,20))\n",
        "\n",
        "RNN_model.summary()"
      ],
      "execution_count": 11,
      "outputs": [
        {
          "output_type": "stream",
          "text": [
            "Model: \"sequential_1\"\n",
            "_________________________________________________________________\n",
            "Layer (type)                 Output Shape              Param #   \n",
            "=================================================================\n",
            "lstm (LSTM)                  (None, 10, 100)           48400     \n",
            "_________________________________________________________________\n",
            "lstm_1 (LSTM)                (None, 10, 90)            68760     \n",
            "_________________________________________________________________\n",
            "lstm_2 (LSTM)                (None, 10, 80)            54720     \n",
            "_________________________________________________________________\n",
            "lstm_3 (LSTM)                (None, 10, 70)            42280     \n",
            "_________________________________________________________________\n",
            "lstm_4 (LSTM)                (None, 10, 60)            31440     \n",
            "_________________________________________________________________\n",
            "lstm_5 (LSTM)                (None, 10, 50)            22200     \n",
            "_________________________________________________________________\n",
            "lstm_6 (LSTM)                (None, 10, 40)            14560     \n",
            "_________________________________________________________________\n",
            "lstm_7 (LSTM)                (None, 10, 30)            8520      \n",
            "_________________________________________________________________\n",
            "lstm_8 (LSTM)                (None, 10, 20)            4080      \n",
            "_________________________________________________________________\n",
            "lstm_9 (LSTM)                (None, 10)                1240      \n",
            "_________________________________________________________________\n",
            "dense_4 (Dense)              (None, 1)                 11        \n",
            "=================================================================\n",
            "Total params: 296,211\n",
            "Trainable params: 296,211\n",
            "Non-trainable params: 0\n",
            "_________________________________________________________________\n"
          ],
          "name": "stdout"
        }
      ]
    },
    {
      "cell_type": "code",
      "metadata": {
        "colab": {
          "base_uri": "https://localhost:8080/"
        },
        "id": "Buu9dMg1VA76",
        "outputId": "1ed75596-b371-4864-ba51-a6e523d9635a"
      },
      "source": [
        "adam = optimizers.Adam(learning_rate= 0.001)\n",
        "RNN_model.compile(loss='mae', optimizer='adam')\n",
        "\n",
        "RNN_history = RNN_model.fit(X_train_s, y_train_s, shuffle= SHUFFLE_BUFFER_SIZE, batch_size= BATCH_SIZE, epochs= EPOCHS)"
      ],
      "execution_count": 12,
      "outputs": [
        {
          "output_type": "stream",
          "text": [
            "Epoch 1/10\n",
            "170/170 [==============================] - 22s 28ms/step - loss: 4.5870\n",
            "Epoch 2/10\n",
            "170/170 [==============================] - 5s 28ms/step - loss: 4.8319\n",
            "Epoch 3/10\n",
            "170/170 [==============================] - 5s 28ms/step - loss: 4.5610\n",
            "Epoch 4/10\n",
            "170/170 [==============================] - 5s 28ms/step - loss: 4.5389\n",
            "Epoch 5/10\n",
            "170/170 [==============================] - 5s 28ms/step - loss: 4.8283\n",
            "Epoch 6/10\n",
            "170/170 [==============================] - 5s 28ms/step - loss: 4.3324\n",
            "Epoch 7/10\n",
            "170/170 [==============================] - 5s 28ms/step - loss: 4.9628\n",
            "Epoch 8/10\n",
            "170/170 [==============================] - 5s 27ms/step - loss: 4.4076\n",
            "Epoch 9/10\n",
            "170/170 [==============================] - 5s 27ms/step - loss: 4.4651\n",
            "Epoch 10/10\n",
            "170/170 [==============================] - 5s 28ms/step - loss: 4.5337\n"
          ],
          "name": "stdout"
        }
      ]
    },
    {
      "cell_type": "code",
      "metadata": {
        "colab": {
          "base_uri": "https://localhost:8080/",
          "height": 283
        },
        "id": "oiF5fnVXVtAh",
        "outputId": "359c376f-1429-4d91-c392-54f53159d8ef"
      },
      "source": [
        "y_predict_RNN = RNN_model.predict(X_test_s)\n",
        "plt.plot(y_predict_RNN, 'blue')\n",
        "plt.plot(y_test_s, 'red')"
      ],
      "execution_count": 13,
      "outputs": [
        {
          "output_type": "execute_result",
          "data": {
            "text/plain": [
              "[<matplotlib.lines.Line2D at 0x7f5433ca6c90>]"
            ]
          },
          "metadata": {
            "tags": []
          },
          "execution_count": 13
        },
        {
          "output_type": "display_data",
          "data": {
            "image/png": "[encoded data removed]",
            "text/plain": [
              "<Figure size 432x288 with 1 Axes>"
            ]
          },
          "metadata": {
            "tags": [],
            "needs_background": "light"
          }
        }
      ]
    },
    {
      "cell_type": "code",
      "metadata": {
        "colab": {
          "base_uri": "https://localhost:8080/"
        },
        "id": "02FjHZ3DW0XN",
        "outputId": "98b024f4-5f36-4e72-8fe0-1ba1084c38dc"
      },
      "source": [
        "RNN_model_2 = Sequential([\n",
        "       Conv1D(64, 7, activation='tanh', input_shape=(10, 20),  strides = 1, padding = 'same'),                          \n",
        "       keras.layers.LSTM(40, activation= 'tanh',return_sequences=True),\n",
        "       Conv1D(64, 7, activation='tanh', input_shape=(10, 5),  strides = 1, padding = 'same'),\n",
        "       keras.layers.LSTM(30, activation= 'tanh',return_sequences=True),\n",
        "       Conv1D(64, 7, activation='tanh', input_shape=(10, 5),  strides = 1, padding = 'same'),\n",
        "       keras.layers.LSTM(20, activation= 'tanh',return_sequences=True),\n",
        "       Conv1D(64, 7, activation='tanh', input_shape=(10, 5),  strides = 1, padding = 'same'),\n",
        "       keras.layers.LSTM(20, activation= 'tanh'),\n",
        "       Dense(1, activation= 'sigmoid')              \n",
        "])\n",
        "\n",
        "RNN_model_2.summary()"
      ],
      "execution_count": 14,
      "outputs": [
        {
          "output_type": "stream",
          "text": [
            "Model: \"sequential_2\"\n",
            "_________________________________________________________________\n",
            "Layer (type)                 Output Shape              Param #   \n",
            "=================================================================\n",
            "conv1d (Conv1D)              (None, 10, 64)            9024      \n",
            "_________________________________________________________________\n",
            "module_wrapper (ModuleWrappe (None, 10, 40)            16800     \n",
            "_________________________________________________________________\n",
            "conv1d_1 (Conv1D)            (None, 10, 64)            17984     \n",
            "_________________________________________________________________\n",
            "module_wrapper_1 (ModuleWrap (None, 10, 30)            11400     \n",
            "_________________________________________________________________\n",
            "conv1d_2 (Conv1D)            (None, 10, 64)            13504     \n",
            "_________________________________________________________________\n",
            "module_wrapper_2 (ModuleWrap (None, 10, 20)            6800      \n",
            "_________________________________________________________________\n",
            "conv1d_3 (Conv1D)            (None, 10, 64)            9024      \n",
            "_________________________________________________________________\n",
            "module_wrapper_3 (ModuleWrap (None, 20)                6800      \n",
            "_________________________________________________________________\n",
            "dense_5 (Dense)              (None, 1)                 21        \n",
            "=================================================================\n",
            "Total params: 91,357\n",
            "Trainable params: 91,357\n",
            "Non-trainable params: 0\n",
            "_________________________________________________________________\n"
          ],
          "name": "stdout"
        }
      ]
    },
    {
      "cell_type": "code",
      "metadata": {
        "colab": {
          "base_uri": "https://localhost:8080/"
        },
        "id": "81vnJU-ZW5ft",
        "outputId": "7a192d10-9f4e-4f2a-fcff-6d8e1a40a04d"
      },
      "source": [
        "RNN_model_2.compile(loss='mae', optimizer='RMSProp')\n",
        "\n",
        "RNN_history_2 = RNN_model_2.fit(X_train_s, y_train_s, shuffle= SHUFFLE_BUFFER_SIZE, batch_size= BATCH_SIZE, epochs= EPOCHS)"
      ],
      "execution_count": 15,
      "outputs": [
        {
          "output_type": "stream",
          "text": [
            "Epoch 1/10\n",
            "170/170 [==============================] - 9s 11ms/step - loss: 4.4577\n",
            "Epoch 2/10\n",
            "170/170 [==============================] - 2s 12ms/step - loss: 4.4850\n",
            "Epoch 3/10\n",
            "170/170 [==============================] - 2s 12ms/step - loss: 4.3626\n",
            "Epoch 4/10\n",
            "170/170 [==============================] - 2s 12ms/step - loss: 4.3788\n",
            "Epoch 5/10\n",
            "170/170 [==============================] - 2s 12ms/step - loss: 4.4572\n",
            "Epoch 6/10\n",
            "170/170 [==============================] - 2s 12ms/step - loss: 4.6727\n",
            "Epoch 7/10\n",
            "170/170 [==============================] - 2s 12ms/step - loss: 4.5164\n",
            "Epoch 8/10\n",
            "170/170 [==============================] - 2s 12ms/step - loss: 4.3751\n",
            "Epoch 9/10\n",
            "170/170 [==============================] - 2s 12ms/step - loss: 4.6704\n",
            "Epoch 10/10\n",
            "170/170 [==============================] - 2s 12ms/step - loss: 4.5394\n"
          ],
          "name": "stdout"
        }
      ]
    },
    {
      "cell_type": "code",
      "metadata": {
        "colab": {
          "base_uri": "https://localhost:8080/",
          "height": 283
        },
        "id": "NZwAnw_DXJ0i",
        "outputId": "6e0bd9cb-a906-4551-9d7c-4c6baaf3d845"
      },
      "source": [
        "y_predict_RNN_2 = RNN_model_2.predict(X_test_s)\n",
        "plt.plot(y_predict_RNN_2, 'blue')\n",
        "plt.plot(y_test_s, 'red')"
      ],
      "execution_count": 16,
      "outputs": [
        {
          "output_type": "execute_result",
          "data": {
            "text/plain": [
              "[<matplotlib.lines.Line2D at 0x7f5432125e90>]"
            ]
          },
          "metadata": {
            "tags": []
          },
          "execution_count": 16
        },
        {
          "output_type": "display_data",
          "data": {
            "image/png": "[encoded data removed]",
            "text/plain": [
              "<Figure size 432x288 with 1 Axes>"
            ]
          },
          "metadata": {
            "tags": [],
            "needs_background": "light"
          }
        }
      ]
    },
    {
      "cell_type": "code",
      "metadata": {
        "id": "fMwSgEpzcFmD"
      },
      "source": [
        "scoring = 'accuracy'"
      ],
      "execution_count": 17,
      "outputs": []
    },
    {
      "cell_type": "code",
      "metadata": {
        "colab": {
          "base_uri": "https://localhost:8080/"
        },
        "id": "_15SXNvKXW_V",
        "outputId": "1ce9dcbc-6a5b-4778-af5f-7b7767d9f107"
      },
      "source": [
        "clf_k = KNeighborsClassifier(n_neighbors= 13)\n",
        "score_k = cross_val_score(clf_k, X_train_np, y_train_np, cv = k_fold, n_jobs = 1, scoring = scoring)\n",
        "round(np.mean(score_k)*100, 2)"
      ],
      "execution_count": 18,
      "outputs": [
        {
          "output_type": "execute_result",
          "data": {
            "text/plain": [
              "16.67"
            ]
          },
          "metadata": {
            "tags": []
          },
          "execution_count": 18
        }
      ]
    },
    {
      "cell_type": "code",
      "metadata": {
        "colab": {
          "base_uri": "https://localhost:8080/",
          "height": 283
        },
        "id": "JlvPIJkGbdGd",
        "outputId": "c02ac49e-d749-4f45-be8c-e616fd13985e"
      },
      "source": [
        "clf_k.fit(X_train_np, y_train_np)\n",
        "\n",
        "y_predict_k = clf_k.predict(X_test_np)\n",
        "\n",
        "plt.plot(y_predict_k, 'blue')\n",
        "plt.plot(y_test_np, 'red')"
      ],
      "execution_count": 19,
      "outputs": [
        {
          "output_type": "execute_result",
          "data": {
            "text/plain": [
              "[<matplotlib.lines.Line2D at 0x7f54318a9650>]"
            ]
          },
          "metadata": {
            "tags": []
          },
          "execution_count": 19
        },
        {
          "output_type": "display_data",
          "data": {
            "image/png": "[encoded data removed]",
            "text/plain": [
              "<Figure size 432x288 with 1 Axes>"
            ]
          },
          "metadata": {
            "tags": [],
            "needs_background": "light"
          }
        }
      ]
    },
    {
      "cell_type": "code",
      "metadata": {
        "colab": {
          "base_uri": "https://localhost:8080/"
        },
        "id": "tNQV40NdZfG_",
        "outputId": "a143a865-a38c-4d6e-db9d-b26166e1b289"
      },
      "source": [
        "clf_d = DecisionTreeClassifier()\n",
        "score_d = cross_val_score(clf_d, X_train_np, y_train_np, cv = k_fold, n_jobs = 1, scoring = scoring)\n",
        "round(np.mean(score_d)*100, 2)"
      ],
      "execution_count": 20,
      "outputs": [
        {
          "output_type": "execute_result",
          "data": {
            "text/plain": [
              "91.67"
            ]
          },
          "metadata": {
            "tags": []
          },
          "execution_count": 20
        }
      ]
    },
    {
      "cell_type": "code",
      "metadata": {
        "colab": {
          "base_uri": "https://localhost:8080/",
          "height": 283
        },
        "id": "Ht4EKzUzaGzY",
        "outputId": "e454ff4e-886b-412a-872a-616e2774f1e5"
      },
      "source": [
        "clf_d.fit(X_train_np, y_train_np)\n",
        "\n",
        "y_predict_d = clf_d.predict(X_test_np)\n",
        "\n",
        "plt.plot(y_predict_d, 'blue')\n",
        "plt.plot(y_test_np, 'red')"
      ],
      "execution_count": 21,
      "outputs": [
        {
          "output_type": "execute_result",
          "data": {
            "text/plain": [
              "[<matplotlib.lines.Line2D at 0x7f5431812a10>]"
            ]
          },
          "metadata": {
            "tags": []
          },
          "execution_count": 21
        },
        {
          "output_type": "display_data",
          "data": {
            "image/png": "[encoded data removed]",
            "text/plain": [
              "<Figure size 432x288 with 1 Axes>"
            ]
          },
          "metadata": {
            "tags": [],
            "needs_background": "light"
          }
        }
      ]
    },
    {
      "cell_type": "code",
      "metadata": {
        "colab": {
          "base_uri": "https://localhost:8080/"
        },
        "id": "AXz8OOZgaIRK",
        "outputId": "5371734d-1648-4662-e3a0-67c485fcf244"
      },
      "source": [
        "clf_r = RandomForestClassifier(n_estimators= 13)\n",
        "score_r = cross_val_score(clf_r, X_train_np, y_train_np, cv = k_fold, n_jobs = 1, scoring = scoring)\n",
        "round(np.mean(score_r)*100, 2)"
      ],
      "execution_count": 24,
      "outputs": [
        {
          "output_type": "execute_result",
          "data": {
            "text/plain": [
              "93.33"
            ]
          },
          "metadata": {
            "tags": []
          },
          "execution_count": 24
        }
      ]
    },
    {
      "cell_type": "code",
      "metadata": {
        "colab": {
          "base_uri": "https://localhost:8080/",
          "height": 283
        },
        "id": "X4Lst6n7cR-P",
        "outputId": "b72af063-dce8-499a-81f8-c31775ac888d"
      },
      "source": [
        "clf_r.fit(X_train_np, y_train_np)\n",
        "\n",
        "y_predict_r = clf_r.predict(X_test_np)\n",
        "\n",
        "plt.plot(y_predict_r, 'blue')\n",
        "plt.plot(y_test_np, 'red')"
      ],
      "execution_count": 25,
      "outputs": [
        {
          "output_type": "execute_result",
          "data": {
            "text/plain": [
              "[<matplotlib.lines.Line2D at 0x7f5431797fd0>]"
            ]
          },
          "metadata": {
            "tags": []
          },
          "execution_count": 25
        },
        {
          "output_type": "display_data",
          "data": {
            "image/png": "[encoded data removed]",
            "text/plain": [
              "<Figure size 432x288 with 1 Axes>"
            ]
          },
          "metadata": {
            "tags": [],
            "needs_background": "light"
          }
        }
      ]
    },
    {
      "cell_type": "code",
      "metadata": {
        "colab": {
          "base_uri": "https://localhost:8080/"
        },
        "id": "JJL6YhsIaUoM",
        "outputId": "2fb31106-3799-4587-8ba0-237bd6df13b1"
      },
      "source": [
        "clf_g = GaussianNB()\n",
        "score_g = cross_val_score(clf_g, X_train_np, y_train_np, cv = k_fold, n_jobs = 1, scoring = scoring)\n",
        "round(np.mean(score_g)*100, 2)"
      ],
      "execution_count": 26,
      "outputs": [
        {
          "output_type": "execute_result",
          "data": {
            "text/plain": [
              "36.67"
            ]
          },
          "metadata": {
            "tags": []
          },
          "execution_count": 26
        }
      ]
    },
    {
      "cell_type": "code",
      "metadata": {
        "colab": {
          "base_uri": "https://localhost:8080/",
          "height": 283
        },
        "id": "wJDXSEKIcf3n",
        "outputId": "d0fbb024-f667-476c-f14c-5a18c91ea3e1"
      },
      "source": [
        "clf_g.fit(X_train_np, y_train_np)\n",
        "\n",
        "y_predict_g = clf_g.predict(X_test_np)\n",
        "\n",
        "plt.plot(y_predict_g, 'blue')\n",
        "plt.plot(y_test_np, 'red')"
      ],
      "execution_count": 27,
      "outputs": [
        {
          "output_type": "execute_result",
          "data": {
            "text/plain": [
              "[<matplotlib.lines.Line2D at 0x7f543170b850>]"
            ]
          },
          "metadata": {
            "tags": []
          },
          "execution_count": 27
        },
        {
          "output_type": "display_data",
          "data": {
            "image/png": "[encoded data removed]",
            "text/plain": [
              "<Figure size 432x288 with 1 Axes>"
            ]
          },
          "metadata": {
            "tags": [],
            "needs_background": "light"
          }
        }
      ]
    },
    {
      "cell_type": "code",
      "metadata": {
        "colab": {
          "base_uri": "https://localhost:8080/"
        },
        "id": "l91Gk9LyaYox",
        "outputId": "83cc30a1-fca9-4c5b-d73f-09e49240dac3"
      },
      "source": [
        "clf_s = SVC()\n",
        "score_s = cross_val_score(clf_s, X_train_np, y_train_np, cv = k_fold, n_jobs = 1, scoring = scoring)\n",
        "round(np.mean(score_s)*100, 2)"
      ],
      "execution_count": 28,
      "outputs": [
        {
          "output_type": "execute_result",
          "data": {
            "text/plain": [
              "20.0"
            ]
          },
          "metadata": {
            "tags": []
          },
          "execution_count": 28
        }
      ]
    },
    {
      "cell_type": "code",
      "metadata": {
        "colab": {
          "base_uri": "https://localhost:8080/",
          "height": 283
        },
        "id": "gx8gVruscwEt",
        "outputId": "4faea3f8-06fd-491b-8b0f-bc8f80be9125"
      },
      "source": [
        "clf_s.fit(X_train_np, y_train_np)\n",
        "\n",
        "y_predict_s = clf_s.predict(X_test_np)\n",
        "\n",
        "plt.plot(y_predict_s, 'blue')\n",
        "plt.plot(y_test_np, 'red')"
      ],
      "execution_count": 29,
      "outputs": [
        {
          "output_type": "execute_result",
          "data": {
            "text/plain": [
              "[<matplotlib.lines.Line2D at 0x7f54316850d0>]"
            ]
          },
          "metadata": {
            "tags": []
          },
          "execution_count": 29
        },
        {
          "output_type": "display_data",
          "data": {
            "image/png": "[encoded data removed]",
            "text/plain": [
              "<Figure size 432x288 with 1 Axes>"
            ]
          },
          "metadata": {
            "tags": [],
            "needs_background": "light"
          }
        }
      ]
    }
  ]
}